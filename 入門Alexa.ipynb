{
 "cells": [
  {
   "cell_type": "markdown",
   "metadata": {},
   "source": [
    "# 入門 Alexa\n",
    "\n",
    "### 公式リファレンス(めっちゃまとまってる)\n",
    "\n",
    "https://developer.amazon.com/public/solutions/alexa/alexa-skills-kit/getting-started-guide\n",
    "\n",
    "### 作るもの\n",
    "\n",
    "- Alexa Skill (認識する文章の定義)\n",
    "- Lambda function (実際に行う処理の定義)"
   ]
  },
  {
   "cell_type": "markdown",
   "metadata": {},
   "source": [
    "## おおまかな流れ\n",
    "\n",
    "<img src=\"https://s3.g.cookpad.com/files/upload/20161215041311_img20161215-15-1eg8tvw.png\"></img>\n",
    "\n",
    "1. Amazon echoに話しかける\n",
    "2. 内容をテキストに変換してAmazon Skillに送る\n",
    "3. 文章の内容から呼び出す関数を見つけ出す\n",
    "4. Lambdaに関数の実行を依頼するリクエストを送る\n",
    "5. Lambdaから返ってきたレスポンスをAmazon echoに送る"
   ]
  },
  {
   "cell_type": "markdown",
   "metadata": {},
   "source": [
    "## Alexa Skillの作成\n",
    "\n",
    "### やること\n",
    "\n",
    "- Intent \n",
    "\n",
    "いわゆる関数、必要に応じてslot(いわゆる引数)も定義する。\n",
    "\n",
    "\n",
    "\n",
    "- Intent\n",
    "\n",
    "```\n",
    "{\n",
    "  \"intents\":  [\n",
    "    { \"intent\": \"AMAZON.HelpIntent\", \"slots\": [] },\n",
    "    { \"intent\": \"AMAZON.StopIntent\", \"slots\": [] },\n",
    "    { \"intent\": \"AMAZON.RepeatIntent\", \"slots\": [] },\n",
    "    { \"intent\": \"AMAZON.CancelIntent\", \"slots\": [] },\n",
    "    { \"intent\": \"AMAZON.YesIntent\", \"slots\": [] },\n",
    "    { \"intent\": \"AMAZON.NoIntent\", \"slots\": [] },\n",
    "    { \"intent\": \"searchIntent\", \"slots\":\n",
    "                    [{ \"name\": \"date\", \"type\": \"AMAZON.DATE\" }] },\n",
    "    { \"intent\": \"eventIntent\", \"slots\":\n",
    "                    [{ \"name\": \"number\", \"type\": \"AMAZON.NUMBER\" }]}\n",
    "  ]\n",
    "}\n",
    "```\n"
   ]
  }
 ],
 "metadata": {
  "kernelspec": {
   "display_name": "Python 3",
   "language": "python",
   "name": "python3"
  },
  "language_info": {
   "codemirror_mode": {
    "name": "ipython",
    "version": 3
   },
   "file_extension": ".py",
   "mimetype": "text/x-python",
   "name": "python",
   "nbconvert_exporter": "python",
   "pygments_lexer": "ipython3",
   "version": "3.5.1"
  }
 },
 "nbformat": 4,
 "nbformat_minor": 1
}
